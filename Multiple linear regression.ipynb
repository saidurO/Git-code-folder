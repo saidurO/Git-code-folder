{
 "cells": [
  {
   "cell_type": "code",
   "execution_count": null,
   "id": "7479f717",
   "metadata": {},
   "outputs": [
    {
     "name": "stdout",
     "output_type": "stream",
     "text": [
      "Dataset:\n",
      "    area  bedrooms  age   price\n",
      "0  1400         3   10  245000\n",
      "1  1600         3   15  312000\n",
      "2  1700         3   20  279000\n",
      "3  1875         4   15  308000\n",
      "4  1100         2   10  199000\n",
      "5  1550         3    5  219000\n",
      "6  2350         4    7  405000\n",
      "7  2450         4    3  324000\n",
      "8  1425         2    8  319000\n",
      "9  1700         3    4  255000\n"
     ]
    },
    {
     "data": {
      "image/png": "[encoded data removed]",
      "text/plain": [
       "<Figure size 640x480 with 1 Axes>"
      ]
     },
     "metadata": {},
     "output_type": "display_data"
    },
    {
     "name": "stdout",
     "output_type": "stream",
     "text": [
      "\n",
      "Intercept: 24713.92953929538\n",
      "Coefficients: [  105.39000093 17738.34968695  1575.95925614]\n",
      "\n",
      "Model Performance:\n",
      "MAE:  55997.28\n",
      "RMSE: 62922.50\n",
      "R²:   -0.91\n",
      "\n",
      "Predicted Price for new house: $296588.78\n"
     ]
    }
   ],
   "source": [
    "# Step 1: Import Libraries\n",
    "import pandas as pd\n",
    "import numpy as np\n",
    "from sklearn.model_selection import train_test_split\n",
    "from sklearn.linear_model import LinearRegression\n",
    "from sklearn.metrics import mean_absolute_error, mean_squared_error, r2_score\n",
    "import matplotlib.pyplot as plt\n",
    "# Step 2: Create a sample dataset\n",
    "data = {\n",
    "    'area': [1400, 1600, 1700, 1875, 1100, 1550, 2350, 2450, 1425, 1700],\n",
    "    'bedrooms': [3, 3, 3, 4, 2, 3, 4, 4, 2, 3],\n",
    "    'age': [10, 15, 20, 15, 10, 5, 7, 3, 8, 4],\n",
    "    'price': [245000, 312000, 279000, 308000, 199000, 219000, 405000, 324000, 319000, 255000]\n",
    "}\n",
    "\n",
    "df = pd.DataFrame(data)\n",
    "print(\"Dataset:\\n\", df)\n",
    "plt.scatter(df['area'], df['price'])\n",
    "plt.xlabel('Area (sq ft)')\n",
    "plt.ylabel('Price ($)')\n",
    "plt.show()\n",
    "# Step 3: Split Features and Target\n",
    "\n",
    "X = df[['area', 'bedrooms', 'age']]\n",
    "\n",
    "y = df['price']\n",
    "\n",
    "# Step 4: Split Train/Test Data\n",
    "X_train, X_test, y_train, y_test = train_test_split(X, y, test_size=0.3, random_state=42)\n",
    "\n",
    "# Step 5: Train the Model\n",
    "model = LinearRegression()\n",
    "model.fit(X_train, y_train)\n",
    "\n",
    "# Step 6: Model Coefficients\n",
    "print(\"\\nIntercept:\", model.intercept_)\n",
    "print(\"Coefficients:\", model.coef_)\n",
    "\n",
    "# Step 7: Make Predictions\n",
    "y_pred = model.predict(X_test)\n",
    "\n",
    "# Step 8: Evaluate the Model\n",
    "mae = mean_absolute_error(y_test, y_pred)\n",
    "mse = mean_squared_error(y_test, y_pred)\n",
    "rmse = np.sqrt(mse)\n",
    "r2 = r2_score(y_test, y_pred)\n",
    "\n",
    "print(\"\\nModel Performance:\")\n",
    "print(f\"MAE:  {mae:.2f}\")\n",
    "print(f\"RMSE: {rmse:.2f}\")\n",
    "print(f\"R²:   {r2:.2f}\")\n",
    "\n",
    "# Step 9: Predict on New Data\n",
    "new_data = pd.DataFrame({\n",
    "    'area': [2000],\n",
    "    'bedrooms': [3],\n",
    "    'age': [5]\n",
    "})\n",
    "predicted_price = model.predict(new_data)\n",
    "print(f\"\\nPredicted Price for new house: ${predicted_price[0]:.2f}\")\n"
   ]
  },
  {
   "cell_type": "code",
   "execution_count": null,
   "metadata": {},
   "outputs": [],
   "source": []
  }
 ],
 "metadata": {
  "kernelspec": {
   "display_name": "base",
   "language": "python",
   "name": "python3"
  },
  "language_info": {
   "codemirror_mode": {
    "name": "ipython",
    "version": 3
   },
   "file_extension": ".py",
   "mimetype": "text/x-python",
   "name": "python",
   "nbconvert_exporter": "python",
   "pygments_lexer": "ipython3",
   "version": "3.13.5"
  }
 },
 "nbformat": 4,
 "nbformat_minor": 5
}
